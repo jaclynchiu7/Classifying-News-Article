{
  "nbformat": 4,
  "nbformat_minor": 0,
  "metadata": {
    "colab": {
      "provenance": [],
      "toc_visible": true,
      "authorship_tag": "ABX9TyPuzJbDtn/JyWzIuQx555f0",
      "include_colab_link": true
    },
    "kernelspec": {
      "name": "python3",
      "display_name": "Python 3"
    },
    "language_info": {
      "name": "python"
    }
  },
  "cells": [
    {
      "cell_type": "markdown",
      "metadata": {
        "id": "view-in-github",
        "colab_type": "text"
      },
      "source": [
        "<a href=\"https://colab.research.google.com/github/jaclynchiu7/Classifying-News-Article/blob/main/end_to_end_classification.ipynb\" target=\"_parent\"><img src=\"https://colab.research.google.com/assets/colab-badge.svg\" alt=\"Open In Colab\"/></a>"
      ]
    },
    {
      "cell_type": "code",
      "execution_count": 1,
      "metadata": {
        "colab": {
          "base_uri": "https://localhost:8080/"
        },
        "id": "5pIlv2dVRQci",
        "outputId": "b8dfcef3-f7f0-495d-d44d-1760463ac6af"
      },
      "outputs": [
        {
          "output_type": "stream",
          "name": "stdout",
          "text": [
            "Mounted at /content/drive\n"
          ]
        }
      ],
      "source": [
        "# This mounts your Google Drive to the Colab VM.\n",
        "from google.colab import drive\n",
        "drive.mount('/content/drive')\n",
        "\n",
        "FOLDERNAME = 'personal_projects/News_Article'\n",
        "assert FOLDERNAME is not None, \"[!] Enter the foldername.\"\n",
        "\n",
        "# Now that we've mounted your Drive, this ensures that\n",
        "# the Python interpreter of the Colab VM can load\n",
        "# python files from within it.\n",
        "import sys\n",
        "sys.path.append('/content/drive/My Drive/{}'.format(FOLDERNAME))"
      ]
    },
    {
      "cell_type": "markdown",
      "source": [
        "# Loading Data"
      ],
      "metadata": {
        "id": "DV0pkd1zVbOc"
      }
    },
    {
      "cell_type": "code",
      "source": [
        "import numpy as np\n",
        "import matplotlib.pyplot as plt\n",
        "import pandas as pd\n",
        "import random\n",
        "import sklearn\n",
        "from sklearn.model_selection import train_test_split\n",
        "np.random.seed(42)"
      ],
      "metadata": {
        "id": "UkfhWFopS45R"
      },
      "execution_count": 2,
      "outputs": []
    },
    {
      "cell_type": "code",
      "source": [
        "df = pd.read_csv('drive/MyDrive/personal_projects/News_Article/classification_articles.csv')"
      ],
      "metadata": {
        "id": "_r2dj3MyS3sg"
      },
      "execution_count": 3,
      "outputs": []
    },
    {
      "cell_type": "code",
      "source": [
        "df"
      ],
      "metadata": {
        "colab": {
          "base_uri": "https://localhost:8080/",
          "height": 1000
        },
        "id": "IRpYMfbIUDAg",
        "outputId": "4244d617-2f01-4a7e-9bdb-f9079336f1bb"
      },
      "execution_count": 4,
      "outputs": [
        {
          "output_type": "execute_result",
          "data": {
            "text/plain": [
              "                                              full_text  \\\n",
              "0     'Pure Hockey, the largest hockey retailer in t...   \n",
              "1     'HKO Hockey Canada Sponsorship 20221006\\n\\nHoc...   \n",
              "2     'Canadian Prime Minister Justin Trudeau said W...   \n",
              "3     'Hockey Canada paid a crisis communications fi...   \n",
              "4     'The Denver Broncos are looking for a new head...   \n",
              "...                                                 ...   \n",
              "3145  'By Rachel Premack of FreightWaves\\n\\nYou prob...   \n",
              "3146  'Manufacturing had a big summer. The CHIPS and...   \n",
              "3147  'A golf cart on a path at Verrado, an 8,800-ac...   \n",
              "3148  'Jakarta, Dec 25 (EFE).- Dozens of Rohingya re...   \n",
              "3149  'By Nora Buli\\n\\nOSLO (Reuters) – Norway’s dep...   \n",
              "\n",
              "                                                summary  \\\n",
              "0     'Pure Hockey, the largest hockey retailer in t...   \n",
              "1     'The tally of Hockey Canada’s sponsorship loss...   \n",
              "2     'Canadian Prime Minister Justin Trudeau said W...   \n",
              "3     'Nicholson says that Hockey Canada did not go ...   \n",
              "4     'The Denver Broncos are looking for a new head...   \n",
              "...                                                 ...   \n",
              "3145  'Right now the barge industry — and all of us ...   \n",
              "3146  'To address these issues and drive the transit...   \n",
              "3147  'Water flow has dropped precipitously in the C...   \n",
              "3148  'Jakarta, Dec 25 (EFE).- Dozens of Rohingya re...   \n",
              "3149  'By Nora BuliOSLO (Reuters) – Norway’s deplete...   \n",
              "\n",
              "                                               keywords  \\\n",
              "0     ['acquire', 'agrees', 'nevada', 'retail', 'hoc...   \n",
              "1     ['sexual', 'exclusive', 'settlement', 'million...   \n",
              "2     ['québec', 'surprise', 'trust', 'sexual', 'org...   \n",
              "3     ['sexual', 'organization', 'million', 'ceo', '...   \n",
              "4     ['beats', 'force', 'season', 'teams', 'anchora...   \n",
              "...                                                 ...   \n",
              "3145  ['coal', 'traffic', 'right', 'mississippi', 's...   \n",
              "3146  ['manufacturing', 'system', 'future', 'technol...   \n",
              "3147  ['developers', 'live', 'state', 'development',...   \n",
              "3148  ['rohingyas', 'told', 'indonesia', 'refugees',...   \n",
              "3149  ['outlook', 'low', 'efforts', 'normal', 'level...   \n",
              "\n",
              "                   publish_date  \\\n",
              "0     2022-10-21 17:11:22+00:00   \n",
              "1                           NaN   \n",
              "2           2022-10-05 00:00:00   \n",
              "3           2022-11-15 00:00:00   \n",
              "4                           NaN   \n",
              "...                         ...   \n",
              "3145                        NaN   \n",
              "3146                        NaN   \n",
              "3147                        NaN   \n",
              "3148                        NaN   \n",
              "3149        2022-10-26 00:00:00   \n",
              "\n",
              "                                                authors  \\\n",
              "0                                          ['Ein News']   \n",
              "1                                   ['Barbara Shecter']   \n",
              "2                                ['The Athletic Staff']   \n",
              "3                                        ['Dan Robson']   \n",
              "4     ['Parker Seibold', 'The Gazette', 'Gazette File']   \n",
              "...                                                 ...   \n",
              "3145                                   ['Tyler Durden']   \n",
              "3146                            ['Mary Beth Gallagher']   \n",
              "3147                                ['Keith Schneider']   \n",
              "3148                             ['Online News Editor']   \n",
              "3149                             ['Syndicated Content']   \n",
              "\n",
              "                                                    url leaf_label root_label  \n",
              "0     https://www.einnews.com/pr_news/597148062/pure...     hockey     sports  \n",
              "1     https://ca.finance.yahoo.com/news/exclusive-ho...     hockey     sports  \n",
              "2     https://theathletic.com/3659888/2022/10/05/hoc...     hockey     sports  \n",
              "3     https://theathletic.com/3900630/2022/11/15/hoc...     hockey     sports  \n",
              "4     https://gazette.com/multimedia/photo-air-force...     hockey     sports  \n",
              "...                                                 ...        ...        ...  \n",
              "3145  https://www.zerohedge.com/markets/latest-suppl...    drought    climate  \n",
              "3146  https://news.mit.edu/2022/manufacturing-cleane...    drought    climate  \n",
              "3147  https://news.yahoo.com/thousands-live-one-day-...    drought    climate  \n",
              "3148  https://www.laprensalatina.com/dozens-of-rohin...    drought    climate  \n",
              "3149  https://katcountry989.com/2022/10/26/norways-p...    drought    climate  \n",
              "\n",
              "[3150 rows x 8 columns]"
            ],
            "text/html": [
              "\n",
              "  <div id=\"df-5c93d08a-55e3-4e39-bb5d-20fd8ff38bf4\">\n",
              "    <div class=\"colab-df-container\">\n",
              "      <div>\n",
              "<style scoped>\n",
              "    .dataframe tbody tr th:only-of-type {\n",
              "        vertical-align: middle;\n",
              "    }\n",
              "\n",
              "    .dataframe tbody tr th {\n",
              "        vertical-align: top;\n",
              "    }\n",
              "\n",
              "    .dataframe thead th {\n",
              "        text-align: right;\n",
              "    }\n",
              "</style>\n",
              "<table border=\"1\" class=\"dataframe\">\n",
              "  <thead>\n",
              "    <tr style=\"text-align: right;\">\n",
              "      <th></th>\n",
              "      <th>full_text</th>\n",
              "      <th>summary</th>\n",
              "      <th>keywords</th>\n",
              "      <th>publish_date</th>\n",
              "      <th>authors</th>\n",
              "      <th>url</th>\n",
              "      <th>leaf_label</th>\n",
              "      <th>root_label</th>\n",
              "    </tr>\n",
              "  </thead>\n",
              "  <tbody>\n",
              "    <tr>\n",
              "      <th>0</th>\n",
              "      <td>'Pure Hockey, the largest hockey retailer in t...</td>\n",
              "      <td>'Pure Hockey, the largest hockey retailer in t...</td>\n",
              "      <td>['acquire', 'agrees', 'nevada', 'retail', 'hoc...</td>\n",
              "      <td>2022-10-21 17:11:22+00:00</td>\n",
              "      <td>['Ein News']</td>\n",
              "      <td>https://www.einnews.com/pr_news/597148062/pure...</td>\n",
              "      <td>hockey</td>\n",
              "      <td>sports</td>\n",
              "    </tr>\n",
              "    <tr>\n",
              "      <th>1</th>\n",
              "      <td>'HKO Hockey Canada Sponsorship 20221006\\n\\nHoc...</td>\n",
              "      <td>'The tally of Hockey Canada’s sponsorship loss...</td>\n",
              "      <td>['sexual', 'exclusive', 'settlement', 'million...</td>\n",
              "      <td>NaN</td>\n",
              "      <td>['Barbara Shecter']</td>\n",
              "      <td>https://ca.finance.yahoo.com/news/exclusive-ho...</td>\n",
              "      <td>hockey</td>\n",
              "      <td>sports</td>\n",
              "    </tr>\n",
              "    <tr>\n",
              "      <th>2</th>\n",
              "      <td>'Canadian Prime Minister Justin Trudeau said W...</td>\n",
              "      <td>'Canadian Prime Minister Justin Trudeau said W...</td>\n",
              "      <td>['québec', 'surprise', 'trust', 'sexual', 'org...</td>\n",
              "      <td>2022-10-05 00:00:00</td>\n",
              "      <td>['The Athletic Staff']</td>\n",
              "      <td>https://theathletic.com/3659888/2022/10/05/hoc...</td>\n",
              "      <td>hockey</td>\n",
              "      <td>sports</td>\n",
              "    </tr>\n",
              "    <tr>\n",
              "      <th>3</th>\n",
              "      <td>'Hockey Canada paid a crisis communications fi...</td>\n",
              "      <td>'Nicholson says that Hockey Canada did not go ...</td>\n",
              "      <td>['sexual', 'organization', 'million', 'ceo', '...</td>\n",
              "      <td>2022-11-15 00:00:00</td>\n",
              "      <td>['Dan Robson']</td>\n",
              "      <td>https://theathletic.com/3900630/2022/11/15/hoc...</td>\n",
              "      <td>hockey</td>\n",
              "      <td>sports</td>\n",
              "    </tr>\n",
              "    <tr>\n",
              "      <th>4</th>\n",
              "      <td>'The Denver Broncos are looking for a new head...</td>\n",
              "      <td>'The Denver Broncos are looking for a new head...</td>\n",
              "      <td>['beats', 'force', 'season', 'teams', 'anchora...</td>\n",
              "      <td>NaN</td>\n",
              "      <td>['Parker Seibold', 'The Gazette', 'Gazette File']</td>\n",
              "      <td>https://gazette.com/multimedia/photo-air-force...</td>\n",
              "      <td>hockey</td>\n",
              "      <td>sports</td>\n",
              "    </tr>\n",
              "    <tr>\n",
              "      <th>...</th>\n",
              "      <td>...</td>\n",
              "      <td>...</td>\n",
              "      <td>...</td>\n",
              "      <td>...</td>\n",
              "      <td>...</td>\n",
              "      <td>...</td>\n",
              "      <td>...</td>\n",
              "      <td>...</td>\n",
              "    </tr>\n",
              "    <tr>\n",
              "      <th>3145</th>\n",
              "      <td>'By Rachel Premack of FreightWaves\\n\\nYou prob...</td>\n",
              "      <td>'Right now the barge industry — and all of us ...</td>\n",
              "      <td>['coal', 'traffic', 'right', 'mississippi', 's...</td>\n",
              "      <td>NaN</td>\n",
              "      <td>['Tyler Durden']</td>\n",
              "      <td>https://www.zerohedge.com/markets/latest-suppl...</td>\n",
              "      <td>drought</td>\n",
              "      <td>climate</td>\n",
              "    </tr>\n",
              "    <tr>\n",
              "      <th>3146</th>\n",
              "      <td>'Manufacturing had a big summer. The CHIPS and...</td>\n",
              "      <td>'To address these issues and drive the transit...</td>\n",
              "      <td>['manufacturing', 'system', 'future', 'technol...</td>\n",
              "      <td>NaN</td>\n",
              "      <td>['Mary Beth Gallagher']</td>\n",
              "      <td>https://news.mit.edu/2022/manufacturing-cleane...</td>\n",
              "      <td>drought</td>\n",
              "      <td>climate</td>\n",
              "    </tr>\n",
              "    <tr>\n",
              "      <th>3147</th>\n",
              "      <td>'A golf cart on a path at Verrado, an 8,800-ac...</td>\n",
              "      <td>'Water flow has dropped precipitously in the C...</td>\n",
              "      <td>['developers', 'live', 'state', 'development',...</td>\n",
              "      <td>NaN</td>\n",
              "      <td>['Keith Schneider']</td>\n",
              "      <td>https://news.yahoo.com/thousands-live-one-day-...</td>\n",
              "      <td>drought</td>\n",
              "      <td>climate</td>\n",
              "    </tr>\n",
              "    <tr>\n",
              "      <th>3148</th>\n",
              "      <td>'Jakarta, Dec 25 (EFE).- Dozens of Rohingya re...</td>\n",
              "      <td>'Jakarta, Dec 25 (EFE).- Dozens of Rohingya re...</td>\n",
              "      <td>['rohingyas', 'told', 'indonesia', 'refugees',...</td>\n",
              "      <td>NaN</td>\n",
              "      <td>['Online News Editor']</td>\n",
              "      <td>https://www.laprensalatina.com/dozens-of-rohin...</td>\n",
              "      <td>drought</td>\n",
              "      <td>climate</td>\n",
              "    </tr>\n",
              "    <tr>\n",
              "      <th>3149</th>\n",
              "      <td>'By Nora Buli\\n\\nOSLO (Reuters) – Norway’s dep...</td>\n",
              "      <td>'By Nora BuliOSLO (Reuters) – Norway’s deplete...</td>\n",
              "      <td>['outlook', 'low', 'efforts', 'normal', 'level...</td>\n",
              "      <td>2022-10-26 00:00:00</td>\n",
              "      <td>['Syndicated Content']</td>\n",
              "      <td>https://katcountry989.com/2022/10/26/norways-p...</td>\n",
              "      <td>drought</td>\n",
              "      <td>climate</td>\n",
              "    </tr>\n",
              "  </tbody>\n",
              "</table>\n",
              "<p>3150 rows × 8 columns</p>\n",
              "</div>\n",
              "      <button class=\"colab-df-convert\" onclick=\"convertToInteractive('df-5c93d08a-55e3-4e39-bb5d-20fd8ff38bf4')\"\n",
              "              title=\"Convert this dataframe to an interactive table.\"\n",
              "              style=\"display:none;\">\n",
              "        \n",
              "  <svg xmlns=\"http://www.w3.org/2000/svg\" height=\"24px\"viewBox=\"0 0 24 24\"\n",
              "       width=\"24px\">\n",
              "    <path d=\"M0 0h24v24H0V0z\" fill=\"none\"/>\n",
              "    <path d=\"M18.56 5.44l.94 2.06.94-2.06 2.06-.94-2.06-.94-.94-2.06-.94 2.06-2.06.94zm-11 1L8.5 8.5l.94-2.06 2.06-.94-2.06-.94L8.5 2.5l-.94 2.06-2.06.94zm10 10l.94 2.06.94-2.06 2.06-.94-2.06-.94-.94-2.06-.94 2.06-2.06.94z\"/><path d=\"M17.41 7.96l-1.37-1.37c-.4-.4-.92-.59-1.43-.59-.52 0-1.04.2-1.43.59L10.3 9.45l-7.72 7.72c-.78.78-.78 2.05 0 2.83L4 21.41c.39.39.9.59 1.41.59.51 0 1.02-.2 1.41-.59l7.78-7.78 2.81-2.81c.8-.78.8-2.07 0-2.86zM5.41 20L4 18.59l7.72-7.72 1.47 1.35L5.41 20z\"/>\n",
              "  </svg>\n",
              "      </button>\n",
              "      \n",
              "  <style>\n",
              "    .colab-df-container {\n",
              "      display:flex;\n",
              "      flex-wrap:wrap;\n",
              "      gap: 12px;\n",
              "    }\n",
              "\n",
              "    .colab-df-convert {\n",
              "      background-color: #E8F0FE;\n",
              "      border: none;\n",
              "      border-radius: 50%;\n",
              "      cursor: pointer;\n",
              "      display: none;\n",
              "      fill: #1967D2;\n",
              "      height: 32px;\n",
              "      padding: 0 0 0 0;\n",
              "      width: 32px;\n",
              "    }\n",
              "\n",
              "    .colab-df-convert:hover {\n",
              "      background-color: #E2EBFA;\n",
              "      box-shadow: 0px 1px 2px rgba(60, 64, 67, 0.3), 0px 1px 3px 1px rgba(60, 64, 67, 0.15);\n",
              "      fill: #174EA6;\n",
              "    }\n",
              "\n",
              "    [theme=dark] .colab-df-convert {\n",
              "      background-color: #3B4455;\n",
              "      fill: #D2E3FC;\n",
              "    }\n",
              "\n",
              "    [theme=dark] .colab-df-convert:hover {\n",
              "      background-color: #434B5C;\n",
              "      box-shadow: 0px 1px 3px 1px rgba(0, 0, 0, 0.15);\n",
              "      filter: drop-shadow(0px 1px 2px rgba(0, 0, 0, 0.3));\n",
              "      fill: #FFFFFF;\n",
              "    }\n",
              "  </style>\n",
              "\n",
              "      <script>\n",
              "        const buttonEl =\n",
              "          document.querySelector('#df-5c93d08a-55e3-4e39-bb5d-20fd8ff38bf4 button.colab-df-convert');\n",
              "        buttonEl.style.display =\n",
              "          google.colab.kernel.accessAllowed ? 'block' : 'none';\n",
              "\n",
              "        async function convertToInteractive(key) {\n",
              "          const element = document.querySelector('#df-5c93d08a-55e3-4e39-bb5d-20fd8ff38bf4');\n",
              "          const dataTable =\n",
              "            await google.colab.kernel.invokeFunction('convertToInteractive',\n",
              "                                                     [key], {});\n",
              "          if (!dataTable) return;\n",
              "\n",
              "          const docLinkHtml = 'Like what you see? Visit the ' +\n",
              "            '<a target=\"_blank\" href=https://colab.research.google.com/notebooks/data_table.ipynb>data table notebook</a>'\n",
              "            + ' to learn more about interactive tables.';\n",
              "          element.innerHTML = '';\n",
              "          dataTable['output_type'] = 'display_data';\n",
              "          await google.colab.output.renderOutput(dataTable, element);\n",
              "          const docLink = document.createElement('div');\n",
              "          docLink.innerHTML = docLinkHtml;\n",
              "          element.appendChild(docLink);\n",
              "        }\n",
              "      </script>\n",
              "    </div>\n",
              "  </div>\n",
              "  "
            ]
          },
          "metadata": {},
          "execution_count": 4
        }
      ]
    },
    {
      "cell_type": "code",
      "source": [
        "# split training and testing data \n",
        "train, test = train_test_split(df[['full_text', 'root_label']], test_size=0.2)\n",
        "train.shape, test.shape"
      ],
      "metadata": {
        "colab": {
          "base_uri": "https://localhost:8080/"
        },
        "id": "lsG5DaKiUGIJ",
        "outputId": "b0bde452-e851-4381-aef9-6c6b4ab29961"
      },
      "execution_count": 5,
      "outputs": [
        {
          "output_type": "execute_result",
          "data": {
            "text/plain": [
              "((2520, 2), (630, 2))"
            ]
          },
          "metadata": {},
          "execution_count": 5
        }
      ]
    },
    {
      "cell_type": "markdown",
      "source": [
        "* training data size: 2520\n",
        "* test data size: 630\n"
      ],
      "metadata": {
        "id": "eWsSPyZcUZQB"
      }
    },
    {
      "cell_type": "markdown",
      "source": [
        "# Feature Extraction "
      ],
      "metadata": {
        "id": "tLY5whFfVWnk"
      }
    },
    {
      "cell_type": "code",
      "source": [
        "import nltk\n",
        "from nltk.stem import WordNetLemmatizer\n",
        "from sklearn.feature_extraction.text import CountVectorizer\n",
        "from nltk.tokenize import word_tokenize\n",
        "from nltk.corpus import wordnet\n",
        "from sklearn.feature_extraction.text import TfidfTransformer\n",
        "from sklearn.feature_extraction import text\n",
        "from nltk.corpus import stopwords\n",
        "from string import punctuation\n",
        "nltk.download('punkt')\n",
        "nltk.download('averaged_perceptron_tagger')\n",
        "nltk.download('wordnet')\n",
        "nltk.download('omw-1.4')\n",
        "nltk.download('stopwords')\n",
        "\n",
        "# Combine stopwords\n",
        "stop_words_skt = text.ENGLISH_STOP_WORDS\n",
        "stop_words_en = stopwords.words('english')\n",
        "combined_stopwords = set.union(set(stop_words_en),set(punctuation),set(stop_words_skt))"
      ],
      "metadata": {
        "colab": {
          "base_uri": "https://localhost:8080/"
        },
        "id": "KeD40wEWWE-7",
        "outputId": "c446a1d7-ce29-4f73-ece9-5a4cd6f10386"
      },
      "execution_count": 6,
      "outputs": [
        {
          "output_type": "stream",
          "name": "stderr",
          "text": [
            "[nltk_data] Downloading package punkt to /root/nltk_data...\n",
            "[nltk_data]   Unzipping tokenizers/punkt.zip.\n",
            "[nltk_data] Downloading package averaged_perceptron_tagger to\n",
            "[nltk_data]     /root/nltk_data...\n",
            "[nltk_data]   Unzipping taggers/averaged_perceptron_tagger.zip.\n",
            "[nltk_data] Downloading package wordnet to /root/nltk_data...\n",
            "[nltk_data] Downloading package omw-1.4 to /root/nltk_data...\n",
            "[nltk_data] Downloading package stopwords to /root/nltk_data...\n",
            "[nltk_data]   Unzipping corpora/stopwords.zip.\n"
          ]
        }
      ]
    },
    {
      "cell_type": "code",
      "source": [
        "# clean full text column of data\n",
        "from extra import clean\n",
        "\n",
        "train['full_text'] = [clean(sample_train_text) for sample_train_text in train['full_text']]\n",
        "test['full_text'] = [clean(sample_test_text) for sample_test_text in test['full_text']]"
      ],
      "metadata": {
        "id": "2dtcwK3AUWGR"
      },
      "execution_count": 7,
      "outputs": []
    },
    {
      "cell_type": "code",
      "source": [
        "\n",
        "#Lemmanizer\n",
        "def penn2morphy(penntag):\n",
        "    \"\"\" Converts Penn Treebank tags to WordNet. \"\"\"\n",
        "    morphy_tag = {'NN':'n', 'JJ':'a',\n",
        "                  'VB':'v', 'RB':'r'}\n",
        "    try:\n",
        "        return morphy_tag[penntag[:2]]\n",
        "    except:\n",
        "        return 'n' \n",
        "\n",
        "wnl = nltk.wordnet.WordNetLemmatizer()\n",
        "  \n",
        "def lemmatize_sent(list_word): \n",
        "    # Text input is string, returns array of lowercased strings(words).\n",
        "    return [wnl.lemmatize(word.lower(), pos=penn2morphy(tag)) \n",
        "            for word, tag in nltk.pos_tag(list_word)]\n",
        "def lemmanized_rmv_punc(doc):\n",
        "    return (word for word in lemmatize_sent(analyzer(doc)) if word not in combined_stopwords and not word.isdigit())\n",
        "\n",
        "\n",
        "#Stemming \n",
        "stemmer = nltk.stem.PorterStemmer()\n",
        "analyzer = CountVectorizer().build_analyzer()\n",
        "def stemmed_words(list_word):\n",
        "     return (stemmer.stem(word) for word in list_word)\n",
        "\n",
        "def stemmer_rmv_punc(doc):\n",
        "    return (word for word in stemmed_words(analyzer(doc)) if word not in combined_stopwords and not word.isdigit())\n",
        "\n",
        "\n"
      ],
      "metadata": {
        "id": "QuydeHuWXnbg"
      },
      "execution_count": 8,
      "outputs": []
    },
    {
      "cell_type": "code",
      "source": [
        "vectorizer = CountVectorizer(stop_words = 'english', min_df = 3, analyzer = lemmanized_rmv_punc)\n",
        "X_train_counts = vectorizer.fit_transform(train['full_text'])\n",
        "X_test_counts = vectorizer.transform(test['full_text'])\n",
        "\n",
        "tfidf_transformer = TfidfTransformer()\n",
        "X_train_tfidf = tfidf_transformer.fit_transform(X_train_counts)\n",
        "X_test_tfidf = tfidf_transformer.transform(X_test_counts)"
      ],
      "metadata": {
        "colab": {
          "base_uri": "https://localhost:8080/"
        },
        "id": "tMAOH4bqZJSG",
        "outputId": "12cf351e-2b9f-450a-a12d-fe10af17952f"
      },
      "execution_count": 9,
      "outputs": [
        {
          "output_type": "stream",
          "name": "stderr",
          "text": [
            "/usr/local/lib/python3.9/dist-packages/sklearn/feature_extraction/text.py:550: UserWarning: The parameter 'stop_words' will not be used since 'analyzer' != 'word'\n",
            "  warnings.warn(\n"
          ]
        }
      ]
    },
    {
      "cell_type": "code",
      "source": [
        "X_train_tfidf.shape, X_test_tfidf.shape"
      ],
      "metadata": {
        "colab": {
          "base_uri": "https://localhost:8080/"
        },
        "id": "xD18cVl1Z1bu",
        "outputId": "03d2ea43-7357-4ce8-eb87-35cac744894f"
      },
      "execution_count": 10,
      "outputs": [
        {
          "output_type": "execute_result",
          "data": {
            "text/plain": [
              "((2520, 13632), (630, 13632))"
            ]
          },
          "metadata": {},
          "execution_count": 10
        }
      ]
    },
    {
      "cell_type": "markdown",
      "source": [
        "# Dimensionality Reduction "
      ],
      "metadata": {
        "id": "w7ksVT25ZdPX"
      }
    },
    {
      "cell_type": "code",
      "source": [
        "# NMF\n",
        "from sklearn.decomposition import NMF\n",
        "\n",
        "model = NMF(n_components=50, init = 'random', random_state = 0, max_iter=500)\n",
        "W = model.fit_transform(X_train_tfidf)\n",
        "H = model.components_\n",
        "WH = W @ H \n",
        "np.linalg.norm(X_train_tfidf - WH)"
      ],
      "metadata": {
        "colab": {
          "base_uri": "https://localhost:8080/"
        },
        "id": "eBMNPeQtbTNy",
        "outputId": "df129935-e13f-453c-db9a-003378fde099"
      },
      "execution_count": 11,
      "outputs": [
        {
          "output_type": "execute_result",
          "data": {
            "text/plain": [
              "41.18402352152928"
            ]
          },
          "metadata": {},
          "execution_count": 11
        }
      ]
    },
    {
      "cell_type": "code",
      "source": [
        "# LSI\n",
        "from sklearn.decomposition import TruncatedSVD\n",
        "\n",
        "num_topics = [1, 10, 50, 100, 200, 500, 1000, 2000]\n",
        "svd_explained_variance_ratio = {}\n",
        "\n",
        "for topic in num_topics:\n",
        "  svd = TruncatedSVD(n_components=topic, n_iter=7, random_state=42)\n",
        "  svd.fit_transform(X_train_tfidf)\n",
        "  svd_explained_variance_ratio[topic] = svd.explained_variance_ratio_.sum()\n",
        "\n",
        "data = pd.DataFrame.from_dict(svd_explained_variance_ratio, orient = 'index')\n",
        "data.reset_index(inplace=True)\n",
        "data.columns = ['topics', 'explained variance ratio']\n",
        "plt.plot(data['topics'], data['explained variance ratio'], '.-')"
      ],
      "metadata": {
        "colab": {
          "base_uri": "https://localhost:8080/",
          "height": 447
        },
        "id": "4IUziDj8ZmVN",
        "outputId": "77e76254-0b29-4568-93f1-99f793f1c107"
      },
      "execution_count": null,
      "outputs": [
        {
          "output_type": "execute_result",
          "data": {
            "text/plain": [
              "[<matplotlib.lines.Line2D at 0x7f61c87d1190>]"
            ]
          },
          "metadata": {},
          "execution_count": 31
        },
        {
          "output_type": "display_data",
          "data": {
            "text/plain": [
              "<Figure size 640x480 with 1 Axes>"
            ],
            "image/png": "[encoded data removed]"
          },
          "metadata": {}
        }
      ]
    },
    {
      "cell_type": "code",
      "source": [
        "from sklearn.decomposition import TruncatedSVD\n",
        "\n",
        "svd = TruncatedSVD(n_components=50, n_iter=7, random_state=42)\n",
        "USIG = svd.fit_transform(X_train_tfidf)\n",
        "V = svd.components_\n",
        "USV = USIG @ V\n",
        "np.linalg.norm(X_train_tfidf - USV)"
      ],
      "metadata": {
        "colab": {
          "base_uri": "https://localhost:8080/"
        },
        "id": "_WRKu_sfbdgS",
        "outputId": "42aa9a2c-091d-4817-bb86-9ab6a66f3ead"
      },
      "execution_count": 12,
      "outputs": [
        {
          "output_type": "execute_result",
          "data": {
            "text/plain": [
              "40.847549906248155"
            ]
          },
          "metadata": {},
          "execution_count": 12
        }
      ]
    },
    {
      "cell_type": "markdown",
      "source": [
        "LSI reconstruction error is smaller than using NMF"
      ],
      "metadata": {
        "id": "-aBpNbOyb8d_"
      }
    },
    {
      "cell_type": "code",
      "source": [
        "X_train_LSI = USIG\n",
        "X_test_LSI = svd.transform(X_test_tfidf)"
      ],
      "metadata": {
        "id": "ZxTIOQBvbqiX"
      },
      "execution_count": 13,
      "outputs": []
    },
    {
      "cell_type": "markdown",
      "source": [
        "# Classification Algorithms "
      ],
      "metadata": {
        "id": "i8LkduADcIGc"
      }
    },
    {
      "cell_type": "code",
      "source": [
        "# relabeling\n",
        "# climate is 1, sports is 0\n",
        "train[\"root_label\"] = train[\"root_label\"].eq('climate').mul(1)\n",
        "test[\"root_label\"] = test[\"root_label\"].eq('climate').mul(1)\n",
        "\n",
        "# metrics function\n",
        "def metrics_conf(conf_matrix):\n",
        "  print(conf_matrix)\n",
        "\n",
        "  total = np.sum(conf_matrix)\n",
        "  true_positive = conf_matrix[0][0]\n",
        "  false_positive = conf_matrix[0][1]\n",
        "  false_negative = conf_matrix[1][0]\n",
        "  true_negative = conf_matrix[1][1]\n",
        "\n",
        "  # accuracy \n",
        "  accuracy= (true_positive + true_negative)/total\n",
        "  print(\"Accuracy:\", accuracy)\n",
        "  # recall\n",
        "  recall = true_positive/(true_positive + false_negative)\n",
        "  print(\"Recall:\", recall)\n",
        "\n",
        "  # precision\n",
        "  precision = true_positive/(true_positive + false_positive)\n",
        "  print(\"Precision:\" , precision)\n",
        "  # F-1 score\n",
        "  f1 =  2 * (precision * recall) / (precision + recall)\n",
        "  print(\"F1:\", f1)"
      ],
      "metadata": {
        "id": "JBI1UHfFdPr4"
      },
      "execution_count": 14,
      "outputs": []
    },
    {
      "cell_type": "markdown",
      "source": [
        "### Support Vector Machines"
      ],
      "metadata": {
        "id": "e4yAPCzudzQJ"
      }
    },
    {
      "cell_type": "code",
      "source": [
        "from sklearn.svm import SVC\n",
        "\n",
        "soft_margin = SVC(kernel = 'linear', C = 0.0001)\n",
        "hard_margin = SVC(kernel = 'linear', C = 1000)\n",
        "\n",
        "soft_margin.fit(X_train_LSI, train[\"root_label\"])\n",
        "hard_margin.fit(X_train_LSI, train[\"root_label\"])\n",
        "\n",
        "predict_soft_margin = soft_margin.predict(X_test_LSI)\n",
        "predict_hard_margin = hard_margin.predict(X_test_LSI)\n",
        "\n",
        "decision_function_soft_margin = soft_margin.decision_function(X_test_LSI)\n",
        "decision_function_hard_margin = hard_margin.decision_function(X_test_LSI)"
      ],
      "metadata": {
        "id": "-zCrTlp9cjSL"
      },
      "execution_count": 15,
      "outputs": []
    },
    {
      "cell_type": "code",
      "source": [
        "# Soft Margin metrics \n",
        "from sklearn import metrics \n",
        "\n",
        "conf_matrix_soft = metrics.confusion_matrix(test[\"root_label\"], predict_soft_margin)\n",
        "fpr, tpr, thresholds = metrics.roc_curve(test[\"root_label\"], decision_function_soft_margin)\n",
        "plt.plot(fpr, tpr, '.-')\n",
        "plt.ylabel('True Positive Rate')\n",
        "plt.xlabel('False Positive Rate')\n",
        "plt.show()\n",
        "\n",
        "metrics_conf(conf_matrix_soft)"
      ],
      "metadata": {
        "colab": {
          "base_uri": "https://localhost:8080/",
          "height": 553
        },
        "id": "m2oyl3brd9X6",
        "outputId": "3ff84794-b1c3-41c1-9685-c1ae37e0c5ba"
      },
      "execution_count": 16,
      "outputs": [
        {
          "output_type": "display_data",
          "data": {
            "text/plain": [
              "<Figure size 640x480 with 1 Axes>"
            ],
            "image/png": "[encoded data removed]"
          },
          "metadata": {}
        },
        {
          "output_type": "stream",
          "name": "stdout",
          "text": [
            "[[367   0]\n",
            " [263   0]]\n",
            "Accuracy: 0.5825396825396826\n",
            "Recall: 0.5825396825396826\n",
            "Precision: 1.0\n",
            "F1: 0.7362086258776329\n"
          ]
        }
      ]
    },
    {
      "cell_type": "code",
      "source": [
        "# Hard Margin metrics\n",
        "conf_matrix_hard = metrics.confusion_matrix(test[\"root_label\"], predict_hard_margin)\n",
        "\n",
        "fpr, tpr, thresholds = metrics.roc_curve(test[\"root_label\"], decision_function_hard_margin)\n",
        "plt.plot(fpr,tpr, '.-')\n",
        "plt.ylabel('True Positive Rate')\n",
        "plt.xlabel('False Positive Rate')\n",
        "plt.show()\n",
        "\n",
        "metrics_conf(conf_matrix_hard)"
      ],
      "metadata": {
        "colab": {
          "base_uri": "https://localhost:8080/",
          "height": 553
        },
        "id": "tinbaCcN5xT0",
        "outputId": "a44e88f0-53ce-48ef-b2a3-58dced4ef1dd"
      },
      "execution_count": 17,
      "outputs": [
        {
          "output_type": "display_data",
          "data": {
            "text/plain": [
              "<Figure size 640x480 with 1 Axes>"
            ],
            "image/png": "[encoded data removed]"
          },
          "metadata": {}
        },
        {
          "output_type": "stream",
          "name": "stdout",
          "text": [
            "[[350  17]\n",
            " [  6 257]]\n",
            "Accuracy: 0.9634920634920635\n",
            "Recall: 0.9831460674157303\n",
            "Precision: 0.9536784741144414\n",
            "F1: 0.9681881051175657\n"
          ]
        }
      ]
    },
    {
      "cell_type": "markdown",
      "source": [
        "## LogisticRegression\n",
        "from sklearn.linear_model import LogisticRegression\n",
        "\n"
      ],
      "metadata": {
        "id": "CX3AN2Xg52wn"
      }
    },
    {
      "cell_type": "code",
      "source": [
        "from sklearn.linear_model import LogisticRegression\n",
        "\n",
        "# no Regularization \n",
        "no_reg = LogisticRegression(penalty = 'none', max_iter = 1000).fit(X_train_LSI, train[\"root_label\"])\n",
        "predict_no_reg = no_reg.predict(X_test_LSI)\n",
        "lp_no_reg = no_reg.predict_log_proba(X_test_LSI)\n",
        "\n",
        "conf_matrix_no_reg = metrics.confusion_matrix(test[\"root_label\"], predict_no_reg)\n",
        "\n",
        "fpr, tpr, thresholds = metrics.roc_curve(test[\"root_label\"], lp_no_reg[:, 1])\n",
        "plt.plot(fpr,tpr, '.-')\n",
        "plt.ylabel('True Positive Rate')\n",
        "plt.xlabel('False Positive Rate')\n",
        "plt.show()\n",
        "\n",
        "metrics_conf(conf_matrix_no_reg)"
      ],
      "metadata": {
        "colab": {
          "base_uri": "https://localhost:8080/",
          "height": 643
        },
        "id": "cIBlFM4M5-8u",
        "outputId": "0ac85fa1-2930-47a2-88e4-aba26e30385c"
      },
      "execution_count": 18,
      "outputs": [
        {
          "output_type": "stream",
          "name": "stderr",
          "text": [
            "/usr/local/lib/python3.9/dist-packages/sklearn/linear_model/_logistic.py:1173: FutureWarning: `penalty='none'`has been deprecated in 1.2 and will be removed in 1.4. To keep the past behaviour, set `penalty=None`.\n",
            "  warnings.warn(\n",
            "/usr/local/lib/python3.9/dist-packages/sklearn/linear_model/_logistic.py:1402: RuntimeWarning: divide by zero encountered in log\n",
            "  return np.log(self.predict_proba(X))\n"
          ]
        },
        {
          "output_type": "display_data",
          "data": {
            "text/plain": [
              "<Figure size 640x480 with 1 Axes>"
            ],
            "image/png": "[encoded data removed]"
          },
          "metadata": {}
        },
        {
          "output_type": "stream",
          "name": "stdout",
          "text": [
            "[[349  18]\n",
            " [  5 258]]\n",
            "Accuracy: 0.9634920634920635\n",
            "Recall: 0.9858757062146892\n",
            "Precision: 0.9509536784741145\n",
            "F1: 0.9680998613037448\n"
          ]
        }
      ]
    },
    {
      "cell_type": "code",
      "source": [
        "# 5 fold validation for regularization l1 and l2  \n",
        "from sklearn.model_selection import cross_val_score\n",
        "np.random.seed(42)\n",
        "random.seed(42)\n",
        "\n",
        "strengths = [1e-5, 1e-4, 1e-3, 1e-2, 1e-1, 1e0 ,1e1, 1e2, 1e3, 1e4, 1e5]\n",
        "results1 = {}\n",
        "results2 = {}\n",
        "\n",
        "#l1 validation \n",
        "for strength in strengths:\n",
        "  model = LogisticRegression(penalty = 'l1', C = strength, solver = 'liblinear', max_iter = 1000)\n",
        "  scores = cross_val_score(model, X_train_LSI, train[\"root_label\"])\n",
        "  avg_score = sum(scores)/len(scores)\n",
        "  results1[strength] = avg_score\n",
        "\n",
        "#l2 validation\n",
        "for strength in strengths:\n",
        "  model = LogisticRegression(penalty = 'l2', C = strength, solver = 'lbfgs', max_iter = 1000)\n",
        "  scores = cross_val_score(model, X_train_LSI, train[\"root_label\"])\n",
        "  avg_score = sum(scores)/len(scores)\n",
        "  results2[strength] = avg_score\n",
        "\n",
        "best_strength_l1 = max(results1, key = results1.get) # gamma = 100\n",
        "best_strength_l2 = max(results2, key = results2.get) # gamma = 1000\n",
        "\n",
        "print(best_strength_l1, best_strength_l2)"
      ],
      "metadata": {
        "colab": {
          "base_uri": "https://localhost:8080/"
        },
        "id": "GWj3xAfX6Tz_",
        "outputId": "5941610d-f01a-45ec-d6eb-7a60b3b5041d"
      },
      "execution_count": 19,
      "outputs": [
        {
          "output_type": "stream",
          "name": "stdout",
          "text": [
            "100.0 1000.0\n"
          ]
        }
      ]
    },
    {
      "cell_type": "code",
      "source": [
        "# best L1 regulation\n",
        "l1_reg = LogisticRegression(penalty = 'l1', C = best_strength_l1, solver = 'liblinear', max_iter = 1000)\n",
        "l1_reg.fit(X_train_LSI, train[\"root_label\"])\n",
        "predict_l1_reg = l1_reg.predict(X_test_LSI)\n",
        "lp_l1_reg = l1_reg.predict_log_proba(X_test_LSI)\n",
        "\n",
        "conf_matrix_l1_reg = metrics.confusion_matrix(test[\"root_label\"], predict_l1_reg)\n",
        "\n",
        "fpr, tpr, thresholds = metrics.roc_curve(test[\"root_label\"], lp_l1_reg[:, 1])\n",
        "plt.plot(fpr, tpr, '.-')\n",
        "plt.ylabel('True Positive Rate')\n",
        "plt.xlabel('False Positive Rate')\n",
        "plt.show()\n",
        "\n",
        "metrics_conf(conf_matrix_l1_reg)"
      ],
      "metadata": {
        "colab": {
          "base_uri": "https://localhost:8080/",
          "height": 608
        },
        "id": "uWhqawxV6vf7",
        "outputId": "aa9c4258-e6ce-4d88-8ff9-e3fbdde01759"
      },
      "execution_count": 21,
      "outputs": [
        {
          "output_type": "stream",
          "name": "stderr",
          "text": [
            "/usr/local/lib/python3.9/dist-packages/sklearn/linear_model/_logistic.py:1402: RuntimeWarning: divide by zero encountered in log\n",
            "  return np.log(self.predict_proba(X))\n"
          ]
        },
        {
          "output_type": "display_data",
          "data": {
            "text/plain": [
              "<Figure size 640x480 with 1 Axes>"
            ],
            "image/png": "[encoded data removed]"
          },
          "metadata": {}
        },
        {
          "output_type": "stream",
          "name": "stdout",
          "text": [
            "[[350  17]\n",
            " [  5 258]]\n",
            "Accuracy: 0.9650793650793651\n",
            "Recall: 0.9859154929577465\n",
            "Precision: 0.9536784741144414\n",
            "F1: 0.9695290858725761\n"
          ]
        }
      ]
    },
    {
      "cell_type": "code",
      "source": [
        "# best L2 regulation \n",
        "l2_reg = LogisticRegression(penalty = 'l2', C = best_strength_l2, solver = 'lbfgs', max_iter = 1000).fit(X_train_LSI, train[\"root_label\"])\n",
        "predict_l2_reg = l2_reg.predict(X_test_LSI)\n",
        "lp_l2_reg = l2_reg.predict_log_proba(X_test_LSI)\n",
        "\n",
        "conf_matrix_l2_reg = metrics.confusion_matrix(test[\"root_label\"], predict_l2_reg)\n",
        "\n",
        "fpr, tpr, thresholds = metrics.roc_curve(test[\"root_label\"], lp_l2_reg[:, 1])\n",
        "plt.plot(fpr, tpr, '.-')\n",
        "plt.ylabel('True Positive Rate')\n",
        "plt.xlabel('False Positive Rate')\n",
        "plt.show()\n",
        "\n",
        "metrics_conf(conf_matrix_l2_reg)"
      ],
      "metadata": {
        "colab": {
          "base_uri": "https://localhost:8080/",
          "height": 608
        },
        "id": "NDRCo0pD6xto",
        "outputId": "ddda69ac-0b0f-4653-dc6a-bf6430208abf"
      },
      "execution_count": 22,
      "outputs": [
        {
          "output_type": "stream",
          "name": "stderr",
          "text": [
            "/usr/local/lib/python3.9/dist-packages/sklearn/linear_model/_logistic.py:1402: RuntimeWarning: divide by zero encountered in log\n",
            "  return np.log(self.predict_proba(X))\n"
          ]
        },
        {
          "output_type": "display_data",
          "data": {
            "text/plain": [
              "<Figure size 640x480 with 1 Axes>"
            ],
            "image/png": "[encoded data removed]"
          },
          "metadata": {}
        },
        {
          "output_type": "stream",
          "name": "stdout",
          "text": [
            "[[350  17]\n",
            " [  5 258]]\n",
            "Accuracy: 0.9650793650793651\n",
            "Recall: 0.9859154929577465\n",
            "Precision: 0.9536784741144414\n",
            "F1: 0.9695290858725761\n"
          ]
        }
      ]
    },
    {
      "cell_type": "markdown",
      "source": [
        "## Naive Bayes Classifier"
      ],
      "metadata": {
        "id": "vfaso8PM6z9i"
      }
    },
    {
      "cell_type": "code",
      "source": [
        "from sklearn.naive_bayes import GaussianNB\n",
        "gnb = GaussianNB().fit(X_train_LSI, train[\"root_label\"])\n",
        "predict_gnb = gnb.predict(X_test_LSI)\n",
        "lp_gnb = gnb.predict_log_proba(X_test_LSI)\n",
        "\n",
        "conf_matrix_gnb = metrics.confusion_matrix(test[\"root_label\"], predict_gnb)\n",
        "\n",
        "fpr, tpr, thresholds = metrics.roc_curve(test[\"root_label\"], lp_gnb[:, 1])\n",
        "plt.plot(fpr, tpr, '.-')\n",
        "plt.ylabel('True Positive Rate')\n",
        "plt.xlabel('False Positive Rate')\n",
        "plt.show()\n",
        "\n",
        "metrics_conf(conf_matrix_gnb)"
      ],
      "metadata": {
        "colab": {
          "base_uri": "https://localhost:8080/",
          "height": 553
        },
        "id": "HXBMRp4b6-W9",
        "outputId": "93961903-8da1-4c8f-c8aa-2bd56d0d63c6"
      },
      "execution_count": 23,
      "outputs": [
        {
          "output_type": "display_data",
          "data": {
            "text/plain": [
              "<Figure size 640x480 with 1 Axes>"
            ],
            "image/png": "[encoded data removed]"
          },
          "metadata": {}
        },
        {
          "output_type": "stream",
          "name": "stdout",
          "text": [
            "[[330  37]\n",
            " [  5 258]]\n",
            "Accuracy: 0.9333333333333333\n",
            "Recall: 0.9850746268656716\n",
            "Precision: 0.8991825613079019\n",
            "F1: 0.9401709401709402\n"
          ]
        }
      ]
    },
    {
      "cell_type": "markdown",
      "source": [
        "# GridSearch Pipeline "
      ],
      "metadata": {
        "id": "MiOWCB2A7QTl"
      }
    },
    {
      "cell_type": "code",
      "source": [
        "from sklearn.pipeline import Pipeline\n",
        "from sklearn.model_selection import GridSearchCV\n",
        "from tempfile import mkdtemp\n",
        "from shutil import rmtree\n",
        "import joblib\n",
        "from joblib import Memory\n",
        "location = './cachedir2'\n",
        "memory_ = Memory(location, verbose=0)"
      ],
      "metadata": {
        "id": "1WvJbml27ake"
      },
      "execution_count": 26,
      "outputs": []
    },
    {
      "cell_type": "code",
      "source": [
        "\n",
        "import warnings\n",
        "    \n",
        "# Settings the warnings to be ignored\n",
        "warnings.filterwarnings('ignore')\n",
        "pipe = Pipeline(\n",
        "    [\n",
        "        (\"vect\", CountVectorizer(min_df=3, stop_words = 'english', analyzer = lemmanized_rmv_punc)),\n",
        "        (\"tfidf\", TfidfTransformer()),\n",
        "        (\"dim_reduction\", TruncatedSVD(n_components= 50, random_state=42)),\n",
        "        (\"classifer\", GaussianNB())\n",
        "    ],\n",
        "    memory = memory_\n",
        ")\n",
        "\n",
        "param_grid = {\n",
        "    \"vect__min_df\" : [3,5], \n",
        "    \"vect__analyzer\" :[lemmanized_rmv_punc, stemmer_rmv_punc],\n",
        "    \"dim_reduction\" : [TruncatedSVD(n_components= 30, random_state=42),\n",
        "                       TruncatedSVD(n_components= 5, random_state=42),\n",
        "                       TruncatedSVD(n_components= 80, random_state=42),\n",
        "                       NMF(n_components=30, init = 'random', max_iter = 1000),\n",
        "                       NMF(n_components=5, init = 'random', max_iter = 1000),\n",
        "                       NMF(n_components=80, init = 'random', max_iter = 1000)\n",
        "                       ], \n",
        "    \"classifer\" : [GaussianNB(),\n",
        "                   LogisticRegression(penalty = 'l1', C = 100, solver = 'liblinear', max_iter = 1000),\n",
        "                   LogisticRegression(penalty = 'l2', C = 1000, solver = 'lbfgs', max_iter = 1000),\n",
        "                   SVC(kernel = 'linear', C = 1000)\n",
        "                   ]\n",
        "}\n",
        "\n",
        "search = GridSearchCV(pipe, param_grid, n_jobs=1, cv=5)\n",
        "search.fit(train[\"full_text\"], train[\"root_label\"])\n",
        "print(\"Best parameter (CV score=%0.3f):\" % search.best_score_)\n",
        "print(search.best_params_)"
      ],
      "metadata": {
        "colab": {
          "base_uri": "https://localhost:8080/"
        },
        "id": "8elX4ry97iyO",
        "outputId": "ebe62758-c844-4a00-c35f-c0a91d3a0acf"
      },
      "execution_count": 27,
      "outputs": [
        {
          "output_type": "stream",
          "name": "stdout",
          "text": [
            "Best parameter (CV score=0.961):\n",
            "{'classifer': LogisticRegression(C=1000, max_iter=1000), 'dim_reduction': TruncatedSVD(n_components=80, random_state=42), 'vect__analyzer': <function lemmanized_rmv_punc at 0x7f09229a8820>, 'vect__min_df': 5}\n"
          ]
        }
      ]
    },
    {
      "cell_type": "markdown",
      "source": [
        "## Best Models and Accuracies"
      ],
      "metadata": {
        "id": "YeYecSIC9EBV"
      }
    },
    {
      "cell_type": "code",
      "source": [
        "# Top 5 Models\n",
        "results = pd.DataFrame.from_dict(search.cv_results_)\n",
        "results = results[['params', 'mean_test_score']]\n",
        "sorted = results.sort_values(by = \"mean_test_score\", ascending = False)\n",
        "pd.options.display.max_colwidth = 300\n",
        "print(sorted.head(5))\n",
        "\n",
        "memory_.clear(warn=False)"
      ],
      "metadata": {
        "id": "3KZUvdlh8_x7",
        "colab": {
          "base_uri": "https://localhost:8080/"
        },
        "outputId": "37c55702-6564-4a97-b1f9-e29b7ab0fc71"
      },
      "execution_count": 28,
      "outputs": [
        {
          "output_type": "stream",
          "name": "stdout",
          "text": [
            "                                                                                                                                                                                                                                               params  \\\n",
            "57                                   {'classifer': LogisticRegression(C=1000, max_iter=1000), 'dim_reduction': TruncatedSVD(n_components=80, random_state=42), 'vect__analyzer': <function lemmanized_rmv_punc at 0x7f09229a8820>, 'vect__min_df': 5}   \n",
            "33  {'classifer': LogisticRegression(C=100, max_iter=1000, penalty='l1', solver='liblinear'), 'dim_reduction': TruncatedSVD(n_components=80, random_state=42), 'vect__analyzer': <function lemmanized_rmv_punc at 0x7f09229a8820>, 'vect__min_df': 5}   \n",
            "95                                               {'classifer': SVC(C=1000, kernel='linear'), 'dim_reduction': NMF(init='random', max_iter=1000, n_components=80), 'vect__analyzer': <function stemmer_rmv_punc at 0x7f09229a8c10>, 'vect__min_df': 5}   \n",
            "56                                   {'classifer': LogisticRegression(C=1000, max_iter=1000), 'dim_reduction': TruncatedSVD(n_components=80, random_state=42), 'vect__analyzer': <function lemmanized_rmv_punc at 0x7f09229a8820>, 'vect__min_df': 3}   \n",
            "92                                            {'classifer': SVC(C=1000, kernel='linear'), 'dim_reduction': NMF(init='random', max_iter=1000, n_components=80), 'vect__analyzer': <function lemmanized_rmv_punc at 0x7f09229a8820>, 'vect__min_df': 3}   \n",
            "\n",
            "    mean_test_score  \n",
            "57         0.961111  \n",
            "33         0.960714  \n",
            "95         0.960317  \n",
            "56         0.960317  \n",
            "92         0.959524  \n"
          ]
        }
      ]
    }
  ]
}